{
  "nbformat": 4,
  "nbformat_minor": 0,
  "metadata": {
    "colab": {
      "provenance": [],
      "authorship_tag": "ABX9TyNanz3qcgK9s/BLp9nk8li8",
      "include_colab_link": true
    },
    "kernelspec": {
      "name": "python3",
      "display_name": "Python 3"
    },
    "language_info": {
      "name": "python"
    }
  },
  "cells": [
    {
      "cell_type": "markdown",
      "metadata": {
        "id": "view-in-github",
        "colab_type": "text"
      },
      "source": [
        "<a href=\"https://colab.research.google.com/github/sadrasa97/get-doi-based-on-topic/blob/main/Untitled89.ipynb\" target=\"_parent\"><img src=\"https://colab.research.google.com/assets/colab-badge.svg\" alt=\"Open In Colab\"/></a>"
      ]
    },
    {
      "cell_type": "code",
      "source": [
        "!pip install habanero"
      ],
      "metadata": {
        "colab": {
          "base_uri": "https://localhost:8080/"
        },
        "id": "22mfQoTYkYvV",
        "outputId": "9ee60342-f903-4e32-fb80-83d5d29112b3"
      },
      "execution_count": 31,
      "outputs": [
        {
          "output_type": "stream",
          "name": "stdout",
          "text": [
            "Looking in indexes: https://pypi.org/simple, https://us-python.pkg.dev/colab-wheels/public/simple/\n",
            "Collecting habanero\n",
            "  Downloading habanero-1.2.3-py2.py3-none-any.whl (30 kB)\n",
            "Requirement already satisfied: requests>=2.7.0 in /usr/local/lib/python3.10/dist-packages (from habanero) (2.27.1)\n",
            "Requirement already satisfied: tqdm in /usr/local/lib/python3.10/dist-packages (from habanero) (4.65.0)\n",
            "Requirement already satisfied: urllib3<1.27,>=1.21.1 in /usr/local/lib/python3.10/dist-packages (from requests>=2.7.0->habanero) (1.26.15)\n",
            "Requirement already satisfied: certifi>=2017.4.17 in /usr/local/lib/python3.10/dist-packages (from requests>=2.7.0->habanero) (2022.12.7)\n",
            "Requirement already satisfied: charset-normalizer~=2.0.0 in /usr/local/lib/python3.10/dist-packages (from requests>=2.7.0->habanero) (2.0.12)\n",
            "Requirement already satisfied: idna<4,>=2.5 in /usr/local/lib/python3.10/dist-packages (from requests>=2.7.0->habanero) (3.4)\n",
            "Installing collected packages: habanero\n",
            "Successfully installed habanero-1.2.3\n"
          ]
        }
      ]
    },
    {
      "cell_type": "code",
      "execution_count": 58,
      "metadata": {
        "colab": {
          "base_uri": "https://localhost:8080/"
        },
        "id": "4fcvciyrcPiy",
        "outputId": "c0292e23-51d2-457a-c3e8-52bb5b5ab595"
      },
      "outputs": [
        {
          "output_type": "stream",
          "name": "stdout",
          "text": [
            "give me your topic :ml\n",
            "give me your number of article :25\n",
            "   topic                             Doi\n",
            "0     ml       10.2478/s11534-006-0043-9\n",
            "1     ml                10.3403/30305967\n",
            "2     ml        10.7717/peerj.8978/fig-5\n",
            "3     ml         10.7554/elife.18857.014\n",
            "4     ml    10.1158/1538-7445.sabcs19-ml\n",
            "5     ml    10.1017/cbo9780511811326.003\n",
            "6     ml    10.1017/cbo9780511574962.005\n",
            "7     ml  10.7551/mitpress/2319.003.0015\n",
            "8     ml    10.1017/cbo9780511811326.010\n",
            "9     ml    10.1109/icws55610.2022.00016\n",
            "10    ml    10.7717/peerj-achem.14/fig-3\n",
            "11    ml       10.7717/peerj.10760/fig-1\n",
            "12    ml               10.3403/30115177u\n",
            "13    ml                10.3403/30115174\n",
            "14    ml               10.3403/30115174u\n",
            "15    ml                10.3403/30115177\n",
            "16    ml         10.2514/6.2022-1472.vid\n",
            "17    ml               10.3403/01342374u\n",
            "18    ml         10.59176/kjcs.v2i1.2240\n",
            "19    ml                10.3403/01342374\n",
            "20    ml       10.7717/peerj.10756/fig-4\n",
            "21    ml                10.1201/b18579-6\n",
            "22    ml         10.1145/1159876.1159879\n",
            "23    ml     10.1007/978-1-4842-8998-3_6\n",
            "24    ml  10.1158/1538-7445.sabcs14-ml-1\n"
          ]
        }
      ],
      "source": [
        "import requests\n",
        "import pandas as pd\n",
        "def get_article_dois(topic,rows):\n",
        "    '''\n",
        "    Given a topic, returns a list of DOIs for articles related to the topic,\n",
        "    using the Crossref API.\n",
        "    '''\n",
        "    base_url = 'https://api.crossref.org/works'\n",
        "    query_params = {\n",
        "        'query.bibliographic': topic,\n",
        "        'rows': rows,\n",
        "        'sort': 'relevance'\n",
        "    }\n",
        "    response = requests.get(base_url, params=query_params)\n",
        "\n",
        "    if response.ok:\n",
        "        article_data = response.json()['message']['items']\n",
        "        dois = [article['DOI'] for article in article_data]\n",
        "        df=pd.DataFrame({'topic':topic,'Doi':dois})\n",
        "        return df\n",
        "    else:\n",
        "        response.raise_for_status()\n",
        "\n",
        "# Example usage:\n",
        "topic = input(\"give me your topic :\")\n",
        "rows=input('give me your number of article :')\n",
        "df1 = get_article_dois(topic,rows)\n",
        "print(df1)"
      ]
    },
    {
      "cell_type": "code",
      "source": [
        "from habanero import Crossref\n",
        "doi=[]\n",
        "cr = Crossref()\n",
        "topic=input(\"give me your desire topic \\n\")\n",
        "result = cr.works(query = topic)\n",
        "num=int(input('give me number of article :\\n'))\n",
        "for i in range(num):\n",
        "    doi.append(result['message']['items'][i]['DOI'])\n",
        "df2=pd.DataFrame({'topic':topic,'Doi':doi})\n",
        "print(df2)"
      ],
      "metadata": {
        "colab": {
          "base_uri": "https://localhost:8080/"
        },
        "id": "hlKBliR_kXb1",
        "outputId": "91c5a427-5533-4bb2-8f0d-991acf1c4026"
      },
      "execution_count": 60,
      "outputs": [
        {
          "output_type": "stream",
          "name": "stdout",
          "text": [
            "give me your desire topic \n",
            "ml\n",
            "give me number of article :\n",
            "20\n",
            "   topic                             Doi\n",
            "0     ml       10.2478/s11534-006-0043-9\n",
            "1     ml                10.3403/30305967\n",
            "2     ml        10.7717/peerj.8978/fig-5\n",
            "3     ml         10.7554/elife.18857.014\n",
            "4     ml    10.1158/1538-7445.sabcs19-ml\n",
            "5     ml    10.1017/cbo9780511811326.003\n",
            "6     ml    10.1017/cbo9780511574962.005\n",
            "7     ml  10.7551/mitpress/2319.003.0015\n",
            "8     ml    10.1109/icws55610.2022.00016\n",
            "9     ml    10.1017/cbo9780511811326.010\n",
            "10    ml    10.7717/peerj-achem.14/fig-3\n",
            "11    ml       10.7717/peerj.10760/fig-1\n",
            "12    ml               10.3403/30115177u\n",
            "13    ml                10.3403/30115174\n",
            "14    ml               10.3403/30115174u\n",
            "15    ml                10.3403/30115177\n",
            "16    ml         10.59176/kjcs.v2i1.2240\n",
            "17    ml            10.17989/encsr847uwt\n",
            "18    ml       10.7717/peerj.10756/fig-4\n",
            "19    ml               10.3403/01342374u\n"
          ]
        }
      ]
    },
    {
      "cell_type": "code",
      "source": [
        "# merge dataframes and keep track of which rows come from which dataframe\n",
        "merge_info = df1.merge(df2, how='outer', indicator=True)\n",
        "\n",
        "# drop rows that are in both dataframes\n",
        "merged_df = merge_info.query(\"_merge != 'both'\").drop('_merge', axis=1)\n",
        "\n",
        "# concatenate remaining rows into a single dataframe\n",
        "union_df = pd.concat([df1, df2], ignore_index=True)"
      ],
      "metadata": {
        "id": "DVqR4KXRpeqd"
      },
      "execution_count": 62,
      "outputs": []
    },
    {
      "cell_type": "code",
      "source": [
        "merged_df"
      ],
      "metadata": {
        "colab": {
          "base_uri": "https://localhost:8080/",
          "height": 269
        },
        "id": "LTZb1G_CpyBL",
        "outputId": "b3efc996-311b-4b5d-d6e6-3f422a5a4986"
      },
      "execution_count": 65,
      "outputs": [
        {
          "output_type": "execute_result",
          "data": {
            "text/plain": [
              "   topic                             Doi\n",
              "16    ml         10.2514/6.2022-1472.vid\n",
              "19    ml                10.3403/01342374\n",
              "21    ml                10.1201/b18579-6\n",
              "22    ml         10.1145/1159876.1159879\n",
              "23    ml     10.1007/978-1-4842-8998-3_6\n",
              "24    ml  10.1158/1538-7445.sabcs14-ml-1\n",
              "25    ml            10.17989/encsr847uwt"
            ],
            "text/html": [
              "\n",
              "  <div id=\"df-e390ce76-096d-4fe5-a233-cacc4550c1c5\">\n",
              "    <div class=\"colab-df-container\">\n",
              "      <div>\n",
              "<style scoped>\n",
              "    .dataframe tbody tr th:only-of-type {\n",
              "        vertical-align: middle;\n",
              "    }\n",
              "\n",
              "    .dataframe tbody tr th {\n",
              "        vertical-align: top;\n",
              "    }\n",
              "\n",
              "    .dataframe thead th {\n",
              "        text-align: right;\n",
              "    }\n",
              "</style>\n",
              "<table border=\"1\" class=\"dataframe\">\n",
              "  <thead>\n",
              "    <tr style=\"text-align: right;\">\n",
              "      <th></th>\n",
              "      <th>topic</th>\n",
              "      <th>Doi</th>\n",
              "    </tr>\n",
              "  </thead>\n",
              "  <tbody>\n",
              "    <tr>\n",
              "      <th>16</th>\n",
              "      <td>ml</td>\n",
              "      <td>10.2514/6.2022-1472.vid</td>\n",
              "    </tr>\n",
              "    <tr>\n",
              "      <th>19</th>\n",
              "      <td>ml</td>\n",
              "      <td>10.3403/01342374</td>\n",
              "    </tr>\n",
              "    <tr>\n",
              "      <th>21</th>\n",
              "      <td>ml</td>\n",
              "      <td>10.1201/b18579-6</td>\n",
              "    </tr>\n",
              "    <tr>\n",
              "      <th>22</th>\n",
              "      <td>ml</td>\n",
              "      <td>10.1145/1159876.1159879</td>\n",
              "    </tr>\n",
              "    <tr>\n",
              "      <th>23</th>\n",
              "      <td>ml</td>\n",
              "      <td>10.1007/978-1-4842-8998-3_6</td>\n",
              "    </tr>\n",
              "    <tr>\n",
              "      <th>24</th>\n",
              "      <td>ml</td>\n",
              "      <td>10.1158/1538-7445.sabcs14-ml-1</td>\n",
              "    </tr>\n",
              "    <tr>\n",
              "      <th>25</th>\n",
              "      <td>ml</td>\n",
              "      <td>10.17989/encsr847uwt</td>\n",
              "    </tr>\n",
              "  </tbody>\n",
              "</table>\n",
              "</div>\n",
              "      <button class=\"colab-df-convert\" onclick=\"convertToInteractive('df-e390ce76-096d-4fe5-a233-cacc4550c1c5')\"\n",
              "              title=\"Convert this dataframe to an interactive table.\"\n",
              "              style=\"display:none;\">\n",
              "        \n",
              "  <svg xmlns=\"http://www.w3.org/2000/svg\" height=\"24px\"viewBox=\"0 0 24 24\"\n",
              "       width=\"24px\">\n",
              "    <path d=\"M0 0h24v24H0V0z\" fill=\"none\"/>\n",
              "    <path d=\"M18.56 5.44l.94 2.06.94-2.06 2.06-.94-2.06-.94-.94-2.06-.94 2.06-2.06.94zm-11 1L8.5 8.5l.94-2.06 2.06-.94-2.06-.94L8.5 2.5l-.94 2.06-2.06.94zm10 10l.94 2.06.94-2.06 2.06-.94-2.06-.94-.94-2.06-.94 2.06-2.06.94z\"/><path d=\"M17.41 7.96l-1.37-1.37c-.4-.4-.92-.59-1.43-.59-.52 0-1.04.2-1.43.59L10.3 9.45l-7.72 7.72c-.78.78-.78 2.05 0 2.83L4 21.41c.39.39.9.59 1.41.59.51 0 1.02-.2 1.41-.59l7.78-7.78 2.81-2.81c.8-.78.8-2.07 0-2.86zM5.41 20L4 18.59l7.72-7.72 1.47 1.35L5.41 20z\"/>\n",
              "  </svg>\n",
              "      </button>\n",
              "      \n",
              "  <style>\n",
              "    .colab-df-container {\n",
              "      display:flex;\n",
              "      flex-wrap:wrap;\n",
              "      gap: 12px;\n",
              "    }\n",
              "\n",
              "    .colab-df-convert {\n",
              "      background-color: #E8F0FE;\n",
              "      border: none;\n",
              "      border-radius: 50%;\n",
              "      cursor: pointer;\n",
              "      display: none;\n",
              "      fill: #1967D2;\n",
              "      height: 32px;\n",
              "      padding: 0 0 0 0;\n",
              "      width: 32px;\n",
              "    }\n",
              "\n",
              "    .colab-df-convert:hover {\n",
              "      background-color: #E2EBFA;\n",
              "      box-shadow: 0px 1px 2px rgba(60, 64, 67, 0.3), 0px 1px 3px 1px rgba(60, 64, 67, 0.15);\n",
              "      fill: #174EA6;\n",
              "    }\n",
              "\n",
              "    [theme=dark] .colab-df-convert {\n",
              "      background-color: #3B4455;\n",
              "      fill: #D2E3FC;\n",
              "    }\n",
              "\n",
              "    [theme=dark] .colab-df-convert:hover {\n",
              "      background-color: #434B5C;\n",
              "      box-shadow: 0px 1px 3px 1px rgba(0, 0, 0, 0.15);\n",
              "      filter: drop-shadow(0px 1px 2px rgba(0, 0, 0, 0.3));\n",
              "      fill: #FFFFFF;\n",
              "    }\n",
              "  </style>\n",
              "\n",
              "      <script>\n",
              "        const buttonEl =\n",
              "          document.querySelector('#df-e390ce76-096d-4fe5-a233-cacc4550c1c5 button.colab-df-convert');\n",
              "        buttonEl.style.display =\n",
              "          google.colab.kernel.accessAllowed ? 'block' : 'none';\n",
              "\n",
              "        async function convertToInteractive(key) {\n",
              "          const element = document.querySelector('#df-e390ce76-096d-4fe5-a233-cacc4550c1c5');\n",
              "          const dataTable =\n",
              "            await google.colab.kernel.invokeFunction('convertToInteractive',\n",
              "                                                     [key], {});\n",
              "          if (!dataTable) return;\n",
              "\n",
              "          const docLinkHtml = 'Like what you see? Visit the ' +\n",
              "            '<a target=\"_blank\" href=https://colab.research.google.com/notebooks/data_table.ipynb>data table notebook</a>'\n",
              "            + ' to learn more about interactive tables.';\n",
              "          element.innerHTML = '';\n",
              "          dataTable['output_type'] = 'display_data';\n",
              "          await google.colab.output.renderOutput(dataTable, element);\n",
              "          const docLink = document.createElement('div');\n",
              "          docLink.innerHTML = docLinkHtml;\n",
              "          element.appendChild(docLink);\n",
              "        }\n",
              "      </script>\n",
              "    </div>\n",
              "  </div>\n",
              "  "
            ]
          },
          "metadata": {},
          "execution_count": 65
        }
      ]
    }
  ]
}